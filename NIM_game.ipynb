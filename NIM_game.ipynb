{
  "nbformat": 4,
  "nbformat_minor": 0,
  "metadata": {
    "colab": {
      "provenance": [],
      "authorship_tag": "ABX9TyOcuXEC3+Cy8K9LLho1vCSa",
      "include_colab_link": true
    },
    "kernelspec": {
      "name": "python3",
      "display_name": "Python 3"
    },
    "language_info": {
      "name": "python"
    }
  },
  "cells": [
    {
      "cell_type": "markdown",
      "metadata": {
        "id": "view-in-github",
        "colab_type": "text"
      },
      "source": [
        "<a href=\"https://colab.research.google.com/github/LeonardoCarCampos/IME-USP-Python-Course/blob/main/NIM_game.ipynb\" target=\"_parent\"><img src=\"https://colab.research.google.com/assets/colab-badge.svg\" alt=\"Open In Colab\"/></a>"
      ]
    },
    {
      "cell_type": "code",
      "execution_count": 1,
      "metadata": {
        "colab": {
          "base_uri": "https://localhost:8080/"
        },
        "id": "4DfM1xTKzBPa",
        "outputId": "e44ab3e2-b4e7-43ff-bac8-64395f25882d"
      },
      "outputs": [
        {
          "output_type": "stream",
          "name": "stdout",
          "text": [
            "Bem-vindo ao jogo do NIM! Escolha:\n",
            "1 - para jogar uma partida isolada\n",
            "2 - para jogar um campeonato\n",
            "1\n",
            "Bem-vindo ao jogo do NIM!\n",
            "Quantas peças? 5\n",
            "Limite de peças por rodada? 2\n",
            "Computador começa!\n",
            "O computador tirou 2 peças.\n",
            "Fim de jogo! O computador ganhou!\n",
            "Agora restam 3 peças no tabuleiro.\n",
            "\n",
            "Quantas peças você vai tirar?2\n",
            "Você tirou 2 peças.\n",
            "Agora restam 1 peças no tabuleiro.\n",
            "\n",
            "O computador tirou 1 peças.\n",
            "Fim de jogo! O computador ganhou!\n",
            "Agora restam 0 peças no tabuleiro.\n",
            "\n",
            "O computador ganhou!\n"
          ]
        }
      ],
      "source": [
        "def computador_escolhe_jogada(n,m):\n",
        "    if (n % (m+1) == 0):\n",
        "        return m\n",
        "    else:\n",
        "        return n % (m+1)\n",
        "\n",
        "def usuario_escolhe_jogada(n,m):\n",
        "    jogada = int(input(\"Quantas peças você vai tirar?\"))\n",
        "    while jogada <= 0 or jogada > m or jogada > n:\n",
        "        print(\"OOps! Jogada inválida! Tente novamente.\")\n",
        "        jogada = int(input(\"Quantas peças você vai tirar?\"))\n",
        "    return jogada\n",
        "\n",
        "\n",
        "def partida():\n",
        "    print(\"Bem-vindo ao jogo do NIM!\")\n",
        "    n = int(input(\"Quantas peças? \"))\n",
        "    m = int(input(\"Limite de peças por rodada? \"))\n",
        "\n",
        "    if n % (m+1) == 0:\n",
        "        print(\"Você começa!\")\n",
        "        vez_do_usuario = True\n",
        "    else:\n",
        "        print(\"Computador começa!\")\n",
        "        vez_do_usuario = False\n",
        "\n",
        "    while n > 0:\n",
        "        if vez_do_usuario:\n",
        "            jogada = usuario_escolhe_jogada(n,m)\n",
        "            print(f\"Você tirou {jogada} peças.\")\n",
        "        else:\n",
        "            jogada = computador_escolhe_jogada(n,m)\n",
        "            print(f\"O computador tirou {jogada} peças.\")\n",
        "            print(\"Fim de jogo! O computador ganhou!\")\n",
        "\n",
        "        n-= jogada\n",
        "        print(f\"Agora restam {n} peças no tabuleiro.\\n\")\n",
        "\n",
        "        vez_do_usuario = not vez_do_usuario\n",
        "\n",
        "    if vez_do_usuario:\n",
        "        print(\"O computador ganhou!\")\n",
        "        return 0\n",
        "    else:\n",
        "        print(\"Você ganhou!\")\n",
        "        return 1\n",
        "\n",
        "def campeonato():\n",
        "    placar_usuario = 0\n",
        "    placar_computador = 0\n",
        "\n",
        "    for _ in range(3):\n",
        "        resultado_partida = partida()\n",
        "        if resultado_partida == 0:\n",
        "            placar_computador += 1\n",
        "        else:\n",
        "            placar_usuario += 1\n",
        "\n",
        "    print(f\"\\nPlacar: Você {placar_usuario} X {placar_computador} Computador\")\n",
        "\n",
        "def escolha_modo_jogo():\n",
        "    print(\"Bem-vindo ao jogo do NIM! Escolha:\")\n",
        "    print(\"1 - para jogar uma partida isolada\")\n",
        "    print(\"2 - para jogar um campeonato\")\n",
        "\n",
        "    modo_jogo = int(input())\n",
        "\n",
        "    if modo_jogo == 1:\n",
        "        partida()\n",
        "    elif modo_jogo == 2:\n",
        "        campeonato()\n",
        "    else:\n",
        "        print(\"Opção inválida. Tente novamente.\")\n",
        "        escolha_modo_jogo()\n",
        "\n",
        "# Chamada da função escolha_modo_jogo para iniciar o jogo\n",
        "escolha_modo_jogo()\n",
        "\n",
        "\n",
        ""
      ]
    }
  ]
}